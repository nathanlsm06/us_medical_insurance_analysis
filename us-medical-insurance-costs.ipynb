{
 "cells": [
  {
   "cell_type": "markdown",
   "metadata": {},
   "source": [
    "# U.S. Medical Insurance Costs"
   ]
  },
  {
   "cell_type": "code",
   "execution_count": 1,
   "metadata": {},
   "outputs": [],
   "source": [
    "#creates dictionary from csv file\n",
    "list_of_ages = []\n",
    "list_of_sexes = []\n",
    "list_of_bmis = []\n",
    "list_of_children = []\n",
    "list_of_smokers = []\n",
    "list_of_regions = []\n",
    "list_of_charges = []\n",
    "\n",
    "import csv\n",
    "\n",
    "with open('insurance.csv', newline='') as csvfile:\n",
    "    insurance_csv_dict = csv.DictReader(csvfile)\n",
    "    for row in insurance_csv_dict:\n",
    "        list_of_ages.append(row['age'])\n",
    "        list_of_sexes.append(row['sex'])\n",
    "        list_of_bmis.append(row['bmi'])\n",
    "        list_of_children.append(row['children'])\n",
    "        list_of_smokers.append(row['smoker'])\n",
    "        list_of_regions.append(row['region'])\n",
    "        list_of_charges.append(row['charges'])\n",
    "        "
   ]
  },
  {
   "cell_type": "code",
   "execution_count": 2,
   "metadata": {},
   "outputs": [],
   "source": [
    "#creates medical IDs for patients and converts values\n",
    "medical_ID = []\n",
    "\n",
    "num_patients = len(list_of_ages)\n",
    "\n",
    "for i in range(num_patients):\n",
    "    medical_ID.append(i+1)\n",
    "    \n",
    "for i in range(num_patients):\n",
    "    list_of_charges[i] = int(float(list_of_charges[i]))\n",
    "    list_of_children[i] = int(float(list_of_children[i]))\n",
    "    list_of_bmis[i] = float(list_of_bmis[i])\n",
    "    list_of_ages[i] = int(list_of_ages[i])"
   ]
  },
  {
   "cell_type": "code",
   "execution_count": 3,
   "metadata": {},
   "outputs": [],
   "source": [
    "#creates dictionary with medical IDs as key and insurance information as nested dictionary values\n",
    "def med_ins_charge_dict(ID, age, sex, bmi, children, smoker, region, charges):\n",
    "    charges_and_details = {}\n",
    "    \n",
    "    for i in range(num_patients):\n",
    "        charges_and_details[medical_ID[i]] = {\"Age\": list_of_ages[i],\n",
    "                               \"Sex\": list_of_sexes[i],\n",
    "                               \"BMI\": list_of_bmis[i],\n",
    "                               \"Children\": list_of_children[i],\n",
    "                               \"Smoker\": list_of_smokers[i],\n",
    "                               \"Region\": list_of_regions[i],\n",
    "                               \"Charges\": list_of_charges[i]}\n",
    "    \n",
    "    return charges_and_details\n",
    "\n",
    "charges_and_details = med_ins_charge_dict(medical_ID, list_of_ages, list_of_sexes, list_of_bmis, list_of_children, list_of_smokers, list_of_regions, list_of_charges)"
   ]
  },
  {
   "cell_type": "code",
   "execution_count": 4,
   "metadata": {},
   "outputs": [
    {
     "name": "stdout",
     "output_type": "stream",
     "text": [
      "Northwest Average Cost: 12417 dollars\n",
      "Northeast Average Cost: 13405 dollars\n",
      "Southwest Average Cost: 12346 dollars\n",
      "Southeast Average Cost: 14734 dollars\n"
     ]
    }
   ],
   "source": [
    "#function calculates average insurance charges for each region\n",
    "def regional_average_cost(charges_and_details):\n",
    "    \n",
    "    northwest_costs = []\n",
    "    northeast_costs = []\n",
    "    southwest_costs = []\n",
    "    southeast_costs = []\n",
    "    for patient in charges_and_details:\n",
    "        if charges_and_details[patient]['Region'] == 'northwest':\n",
    "            northwest_costs.append(charges_and_details[patient]['Charges'])\n",
    "        if charges_and_details[patient]['Region'] == 'northeast':\n",
    "            northeast_costs.append(charges_and_details[patient]['Charges'])\n",
    "        if charges_and_details[patient]['Region'] == 'southwest':\n",
    "            southwest_costs.append(charges_and_details[patient]['Charges'])\n",
    "        if charges_and_details[patient]['Region'] == 'southeast':\n",
    "            southeast_costs.append(charges_and_details[patient]['Charges'])\n",
    "    northwest_avg = int(sum(northwest_costs)/len(northwest_costs))\n",
    "    northeast_avg = int(sum(northeast_costs)/len(northeast_costs))\n",
    "    southwest_avg = int(sum(southwest_costs)/len(southwest_costs))\n",
    "    southeast_avg = int(sum(southeast_costs)/len(southeast_costs))\n",
    "    \n",
    "    return northwest_avg, northeast_avg, southwest_avg, southeast_avg\n",
    "\n",
    "northwest_avg, northeast_avg, southwest_avg, southeast_avg = regional_average_cost(charges_and_details)\n",
    "print(\"Northwest Average Cost: \" + str(northwest_avg) + \" dollars\\n\" +\n",
    "      \"Northeast Average Cost: \" + str(northeast_avg) + \" dollars\\n\" +\n",
    "      \"Southwest Average Cost: \" + str(southwest_avg) + \" dollars\\n\" +\n",
    "      \"Southeast Average Cost: \" + str(southeast_avg) + \" dollars\")"
   ]
  },
  {
   "cell_type": "code",
   "execution_count": 5,
   "metadata": {},
   "outputs": [],
   "source": [
    "#creates dictionary with regions as values and adds patient insurance information as nested dictionary list\n",
    "def regional_dict(charges_and_details):\n",
    "    \n",
    "    patients_by_region = {}\n",
    "    for patient in charges_and_details:\n",
    "        current_region = charges_and_details[patient]['Region']\n",
    "        current_patient = charges_and_details[patient]\n",
    "        if current_region not in patients_by_region:\n",
    "            patients_by_region[current_region] = [current_patient]\n",
    "        else:\n",
    "            patients_by_region[current_region].append(current_patient)\n",
    "    \n",
    "    return patients_by_region\n",
    "\n",
    "patients_by_region = regional_dict(charges_and_details)"
   ]
  },
  {
   "cell_type": "code",
   "execution_count": 6,
   "metadata": {},
   "outputs": [
    {
     "name": "stdout",
     "output_type": "stream",
     "text": [
      "Southwest Average Age: 39\n",
      "Southeast Average Age: 38\n",
      "Northwest Average Age: 39\n",
      "Northeast Average Age: 39\n"
     ]
    }
   ],
   "source": [
    "#calculates average insurance charges for each region by indexing patients_by_region dictionary\n",
    "southwest_pts = len(patients_by_region['southwest'])\n",
    "southeast_pts = len(patients_by_region['southeast'])\n",
    "northwest_pts = len(patients_by_region['northwest'])\n",
    "northeast_pts = len(patients_by_region['northeast'])\n",
    "\n",
    "southwest_cum_age = 0\n",
    "southeast_cum_age = 0\n",
    "northwest_cum_age = 0\n",
    "northeast_cum_age = 0\n",
    "\n",
    "for i in range(southwest_pts):\n",
    "    southwest_cum_age += patients_by_region['southwest'][i]['Age']\n",
    "\n",
    "for i in range(southeast_pts):\n",
    "    southeast_cum_age += patients_by_region['southeast'][i]['Age']\n",
    "\n",
    "for i in range(northwest_pts):\n",
    "    northwest_cum_age += patients_by_region['northwest'][i]['Age']\n",
    "\n",
    "for i in range(northeast_pts):\n",
    "    northeast_cum_age += patients_by_region['northeast'][i]['Age']\n",
    "\n",
    "southwest_avg_age = int(southwest_cum_age / southwest_pts)\n",
    "southeast_avg_age = int(southeast_cum_age / southeast_pts)\n",
    "northwest_avg_age = int(northwest_cum_age / northwest_pts)\n",
    "northeast_avg_age = int(northeast_cum_age / northeast_pts)\n",
    "\n",
    "print(\"Southwest Average Age: \" + str(southwest_avg_age))\n",
    "print(\"Southeast Average Age: \" + str(southeast_avg_age))\n",
    "print(\"Northwest Average Age: \" + str(northwest_avg_age))\n",
    "print(\"Northeast Average Age: \" + str(northeast_avg_age))"
   ]
  },
  {
   "cell_type": "code",
   "execution_count": 7,
   "metadata": {},
   "outputs": [
    {
     "name": "stdout",
     "output_type": "stream",
     "text": [
      "southwest average Age: 39\n"
     ]
    }
   ],
   "source": [
    "#function that allows you to input region and children/bmi/age/charges and returns average of that metric for region\n",
    "def regional_analysis(region, metric):\n",
    "    regional_pts = len(patients_by_region[region])\n",
    "    cumulative_regional_metric = 0\n",
    "    \n",
    "    for i in range(regional_pts):\n",
    "        cumulative_regional_metric += patients_by_region[region][i][metric]\n",
    "    \n",
    "    average_regional_metric = int(cumulative_regional_metric / regional_pts)\n",
    "    \n",
    "    return \"{region} average {metric}: \".format(region = region, metric = metric) + str(average_regional_metric)\n",
    "    \n",
    "print(regional_analysis('southwest', 'Age'))"
   ]
  },
  {
   "cell_type": "code",
   "execution_count": 8,
   "metadata": {},
   "outputs": [
    {
     "name": "stdout",
     "output_type": "stream",
     "text": [
      "northeast average BMI: 29\n"
     ]
    }
   ],
   "source": [
    "print(regional_analysis('northeast', 'BMI'))"
   ]
  },
  {
   "cell_type": "code",
   "execution_count": 9,
   "metadata": {},
   "outputs": [
    {
     "name": "stdout",
     "output_type": "stream",
     "text": [
      "Southwest average Children: 1\n",
      "Southeast average Children: 1\n",
      "Northwest average Children: 1\n",
      "Northeast average Children: 1\n"
     ]
    }
   ],
   "source": [
    "#function that allows you to input children/bmi/age/charges and returns average of that metric for all regions\n",
    "def all_region_avg(metric):\n",
    "    southwest_cumulative_metric = 0\n",
    "    southeast_cumulative_metric = 0\n",
    "    northwest_cumulative_metric = 0\n",
    "    northeast_cumulative_metric = 0\n",
    "\n",
    "    for i in range(southwest_pts):\n",
    "        southwest_cumulative_metric += patients_by_region['southwest'][i][metric]\n",
    "\n",
    "    for i in range(southeast_pts):\n",
    "        southeast_cumulative_metric += patients_by_region['southeast'][i][metric]\n",
    "    \n",
    "    for i in range(northwest_pts):\n",
    "        northwest_cumulative_metric += patients_by_region['northwest'][i][metric]\n",
    "\n",
    "    for i in range(northeast_pts):\n",
    "        northeast_cumulative_metric += patients_by_region['northeast'][i][metric]\n",
    "\n",
    "    southwest_avg_metric = int(southwest_cumulative_metric / southwest_pts)\n",
    "    southeast_avg_metric = int(southeast_cumulative_metric / southeast_pts)\n",
    "    northwest_avg_metric = int(northwest_cumulative_metric / northwest_pts)\n",
    "    northeast_avg_metric = int(northeast_cumulative_metric / northeast_pts)\n",
    "    \n",
    "    return \"Southwest average {metric}: \".format(metric = metric) + str(southwest_avg_metric) + \"\\nSoutheast average {metric}: \".format(metric = metric) + str(southeast_avg_metric) + \"\\nNorthwest average {metric}: \".format(metric = metric) + str(northwest_avg_metric) + \"\\nNortheast average {metric}: \".format(metric = metric) + str(northeast_avg_metric)\n",
    "\n",
    "print(all_region_avg(\"Children\"))"
   ]
  },
  {
   "cell_type": "code",
   "execution_count": 10,
   "metadata": {},
   "outputs": [
    {
     "name": "stdout",
     "output_type": "stream",
     "text": [
      "Southwest average BMI: 30\n",
      "Southeast average BMI: 33\n",
      "Northwest average BMI: 29\n",
      "Northeast average BMI: 29\n"
     ]
    }
   ],
   "source": [
    "print(all_region_avg(\"BMI\"))"
   ]
  },
  {
   "cell_type": "code",
   "execution_count": 11,
   "metadata": {},
   "outputs": [
    {
     "name": "stdout",
     "output_type": "stream",
     "text": [
      "Southwest average Charges: 12346\n",
      "Southeast average Charges: 14734\n",
      "Northwest average Charges: 12417\n",
      "Northeast average Charges: 13405\n"
     ]
    }
   ],
   "source": [
    "print(all_region_avg(\"Charges\"))"
   ]
  },
  {
   "cell_type": "code",
   "execution_count": 12,
   "metadata": {},
   "outputs": [
    {
     "name": "stdout",
     "output_type": "stream",
     "text": [
      "Southwest average Age: 39\n",
      "Southeast average Age: 38\n",
      "Northwest average Age: 39\n",
      "Northeast average Age: 39\n"
     ]
    }
   ],
   "source": [
    "print(all_region_avg(\"Age\"))"
   ]
  },
  {
   "cell_type": "code",
   "execution_count": 13,
   "metadata": {},
   "outputs": [],
   "source": [
    "#function that returns percentage of smokers in each region\n",
    "def smoker_analysis(dictionary):\n",
    "    southwest_cumulative_smokers = 0\n",
    "    southeast_cumulative_smokers = 0\n",
    "    northwest_cumulative_smokers = 0\n",
    "    northeast_cumulative_smokers = 0\n",
    "\n",
    "    for i in range(southwest_pts):\n",
    "        if patients_by_region['southwest'][i]['Smoker'] == 'yes':\n",
    "            southwest_cumulative_smokers += 1\n",
    "        \n",
    "    for i in range(southeast_pts):\n",
    "        if patients_by_region['southeast'][i]['Smoker'] == 'yes':\n",
    "            southeast_cumulative_smokers += 1\n",
    "    \n",
    "    for i in range(northwest_pts):\n",
    "        if patients_by_region['northwest'][i]['Smoker'] == 'yes':\n",
    "            northwest_cumulative_smokers += 1\n",
    "        \n",
    "    for i in range(northeast_pts):\n",
    "        if patients_by_region['northeast'][i]['Smoker'] == 'yes':\n",
    "            northeast_cumulative_smokers += 1\n",
    "\n",
    "    southwest_smoker_pct = int((southwest_cumulative_smokers / southwest_pts) * 100)\n",
    "    southeast_smoker_pct = int((southeast_cumulative_smokers / southeast_pts) * 100)\n",
    "    northwest_smoker_pct = int((northwest_cumulative_smokers / northwest_pts) * 100)\n",
    "    northeast_smoker_pct = int((northeast_cumulative_smokers / northeast_pts) * 100)\n",
    "    \n",
    "    return \"Southwest smoking percentage: \" + str(southwest_smoker_pct) + \"%\" + \"\\nSoutheast smoking percentage: \" + str(southeast_smoker_pct) + \"%\" + \"\\nNorthwest smoking percentage: \" + str(northwest_smoker_pct) + \"%\" + \"\\nNortheast smoking percentage: \" + str(northeast_smoker_pct) + \"%\""
   ]
  },
  {
   "cell_type": "code",
   "execution_count": 14,
   "metadata": {},
   "outputs": [
    {
     "name": "stdout",
     "output_type": "stream",
     "text": [
      "Southwest smoking percentage: 17%\n",
      "Southeast smoking percentage: 25%\n",
      "Northwest smoking percentage: 17%\n",
      "Northeast smoking percentage: 20%\n"
     ]
    }
   ],
   "source": [
    "print(smoker_analysis(patients_by_region))"
   ]
  },
  {
   "cell_type": "code",
   "execution_count": 15,
   "metadata": {},
   "outputs": [],
   "source": [
    "#function that allows you to input metric and categorical value and returns percentage of value in each region\n",
    "def categorical_percentage(metric, value):\n",
    "    southwest_cumulative_value = 0\n",
    "    southeast_cumulative_value = 0\n",
    "    northwest_cumulative_value = 0\n",
    "    northeast_cumulative_value = 0\n",
    "\n",
    "    for i in range(southwest_pts):\n",
    "        if patients_by_region['southwest'][i][metric] == value:\n",
    "            southwest_cumulative_value += 1\n",
    "        \n",
    "    for i in range(southeast_pts):\n",
    "        if patients_by_region['southeast'][i][metric] == value:\n",
    "            southeast_cumulative_value += 1\n",
    "    \n",
    "    for i in range(northwest_pts):\n",
    "        if patients_by_region['northwest'][i][metric] == value:\n",
    "            northwest_cumulative_value += 1\n",
    "        \n",
    "    for i in range(northeast_pts):\n",
    "        if patients_by_region['northeast'][i][metric] == value:\n",
    "            northeast_cumulative_value += 1\n",
    "\n",
    "    southwest_metric_pct = int((southwest_cumulative_value / southwest_pts) * 100)\n",
    "    southeast_metric_pct = int((southeast_cumulative_value / southeast_pts) * 100)\n",
    "    northwest_metric_pct = int((northwest_cumulative_value / northwest_pts) * 100)\n",
    "    northeast_metric_pct = int((northeast_cumulative_value / northeast_pts) * 100)\n",
    "    \n",
    "    return \"Southwest {metric} percentage - {value}: \".format(metric = metric, value = value) + str(southwest_metric_pct) + \"%\" + \"\\nSoutheast {metric} percentage - {value}: \".format(metric = metric, value = value) + str(southeast_metric_pct) + \"%\" + \"\\nNorthwest {metric} percentage - {value}: \".format(metric = metric, value = value) + str(northwest_metric_pct) + \"%\" + \"\\nNortheast {metric} percentage - {value}: \".format(metric = metric, value = value) + str(northeast_metric_pct) + \"%\""
   ]
  },
  {
   "cell_type": "code",
   "execution_count": 16,
   "metadata": {},
   "outputs": [
    {
     "name": "stdout",
     "output_type": "stream",
     "text": [
      "Southwest Sex percentage - male: 50%\n",
      "Southeast Sex percentage - male: 51%\n",
      "Northwest Sex percentage - male: 49%\n",
      "Northeast Sex percentage - male: 50%\n"
     ]
    }
   ],
   "source": [
    "print(categorical_percentage('Sex', 'male'))"
   ]
  },
  {
   "cell_type": "code",
   "execution_count": 17,
   "metadata": {},
   "outputs": [
    {
     "name": "stdout",
     "output_type": "stream",
     "text": [
      "Southwest Smoker percentage - yes: 17%\n",
      "Southeast Smoker percentage - yes: 25%\n",
      "Northwest Smoker percentage - yes: 17%\n",
      "Northeast Smoker percentage - yes: 20%\n"
     ]
    }
   ],
   "source": [
    "print(categorical_percentage('Smoker', 'yes'))"
   ]
  },
  {
   "cell_type": "code",
   "execution_count": 18,
   "metadata": {},
   "outputs": [],
   "source": [
    "#creates dictionary that assigns range of BMIs values and adds patient insurance information as nested dictionary list\n",
    "def bmi_dict(charges_and_details):\n",
    "    bmi_scale = {'Underweight': [],\n",
    "                'Healthy Weight': [],\n",
    "                'Overweight': [],\n",
    "                'Obese': []}\n",
    "    \n",
    "    for patient in charges_and_details:\n",
    "        if charges_and_details[patient]['BMI'] > 30.0:\n",
    "            bmi_scale['Obese'].append(charges_and_details[patient])\n",
    "        elif charges_and_details[patient]['BMI'] > 25.0:\n",
    "            bmi_scale['Overweight'].append(charges_and_details[patient])\n",
    "        elif charges_and_details[patient]['BMI'] > 18.5:\n",
    "            bmi_scale['Healthy Weight'].append(charges_and_details[patient])\n",
    "        else:\n",
    "            bmi_scale['Underweight'].append(charges_and_details[patient])\n",
    "            \n",
    "    return bmi_scale"
   ]
  },
  {
   "cell_type": "code",
   "execution_count": 19,
   "metadata": {},
   "outputs": [],
   "source": [
    "patients_by_bmi = bmi_dict(charges_and_details)"
   ]
  },
  {
   "cell_type": "code",
   "execution_count": 20,
   "metadata": {},
   "outputs": [
    {
     "name": "stdout",
     "output_type": "stream",
     "text": [
      "Underweight average Charges: 8657\n",
      "Healthy Weight average Charges: 10434\n",
      "Overweight average Charges: 10997\n",
      "Obese average Charges: 15560\n"
     ]
    }
   ],
   "source": [
    "#function that allows you to input children/bmi/age/charges and returns average of that metric for BMI category\n",
    "underweight_pts = len(patients_by_bmi['Underweight'])\n",
    "healthyweight_pts = len(patients_by_bmi['Healthy Weight'])\n",
    "overweight_pts = len(patients_by_bmi['Overweight'])\n",
    "obese_pts = len(patients_by_bmi['Obese'])\n",
    "\n",
    "def all_bmi_avg(metric):\n",
    "    underweight_cumulative_metric = 0\n",
    "    healthyweight_cumulative_metric = 0\n",
    "    overweight_cumulative_metric = 0\n",
    "    obese_cumulative_metric = 0\n",
    "\n",
    "    for i in range(underweight_pts):\n",
    "        underweight_cumulative_metric += patients_by_bmi['Underweight'][i][metric]\n",
    "\n",
    "    for i in range(healthyweight_pts):\n",
    "        healthyweight_cumulative_metric += patients_by_bmi['Healthy Weight'][i][metric]\n",
    "    \n",
    "    for i in range(overweight_pts):\n",
    "        overweight_cumulative_metric += patients_by_bmi['Overweight'][i][metric]\n",
    "\n",
    "    for i in range(obese_pts):\n",
    "        obese_cumulative_metric += patients_by_bmi['Obese'][i][metric]\n",
    "\n",
    "    underweight_avg_metric = int(underweight_cumulative_metric / underweight_pts)\n",
    "    healthyweight_avg_metric = int(healthyweight_cumulative_metric / healthyweight_pts)\n",
    "    overweight_avg_metric = int(overweight_cumulative_metric / overweight_pts)\n",
    "    obese_avg_metric = int(obese_cumulative_metric / obese_pts)\n",
    "    \n",
    "    return \"Underweight average {metric}: \".format(metric = metric) + str(underweight_avg_metric) + \"\\nHealthy Weight average {metric}: \".format(metric = metric) + str(healthyweight_avg_metric) + \"\\nOverweight average {metric}: \".format(metric = metric) + str(overweight_avg_metric) + \"\\nObese average {metric}: \".format(metric = metric) + str(obese_avg_metric)\n",
    "\n",
    "print(all_bmi_avg(\"Charges\"))"
   ]
  },
  {
   "cell_type": "code",
   "execution_count": 21,
   "metadata": {},
   "outputs": [],
   "source": [
    "#creates dictionary that assigns range of ages as values and adds patient insurance information as nested dictionary list\n",
    "def age_dict(charges_and_details):\n",
    "    age_groups = {'Children': [],\n",
    "                'Young Adults': [],\n",
    "                'Middle Aged Adults': [],\n",
    "                'Older Adults': [], \n",
    "                'Senior Citizens': []}\n",
    "    \n",
    "    for patient in charges_and_details:\n",
    "        if charges_and_details[patient]['Age'] > 64:\n",
    "            age_groups['Senior Citizens'].append(charges_and_details[patient])\n",
    "        elif charges_and_details[patient]['Age'] > 44:\n",
    "            age_groups['Older Adults'].append(charges_and_details[patient])\n",
    "        elif charges_and_details[patient]['Age'] > 30:\n",
    "            age_groups['Middle Aged Adults'].append(charges_and_details[patient])\n",
    "        elif charges_and_details[patient]['Age'] > 17:\n",
    "            age_groups['Young Adults'].append(charges_and_details[patient])\n",
    "        else:\n",
    "            age_groups['Children'].append(charges_and_details[patient])\n",
    "            \n",
    "    return age_groups\n",
    "\n",
    "patients_by_age = age_dict(charges_and_details)"
   ]
  },
  {
   "cell_type": "code",
   "execution_count": 22,
   "metadata": {},
   "outputs": [
    {
     "name": "stdout",
     "output_type": "stream",
     "text": [
      "Young Adult average Charges: 9397\n",
      "Middle Aged Adult average Charges: 12473\n",
      "Older Adult average Charges: 17070\n"
     ]
    }
   ],
   "source": [
    "#function that allows you to input children/bmi/age/charges and returns average of that metric for age category\n",
    "num_youngadults = len(patients_by_age['Young Adults'])\n",
    "num_middleagedadults = len(patients_by_age['Middle Aged Adults'])\n",
    "num_olderadults = len(patients_by_age['Older Adults'])\n",
    "\n",
    "def all_age_avg(metric):\n",
    "    youngadults_cumulative_metric = 0\n",
    "    middleagedadults_cumulative_metric = 0\n",
    "    olderadults_cumulative_metric = 0\n",
    "\n",
    "    for i in range(num_youngadults):\n",
    "        youngadults_cumulative_metric += patients_by_age['Young Adults'][i][metric]\n",
    "    \n",
    "    for i in range(num_middleagedadults):\n",
    "        middleagedadults_cumulative_metric += patients_by_age['Middle Aged Adults'][i][metric]\n",
    "\n",
    "    for i in range(num_olderadults):\n",
    "        olderadults_cumulative_metric += patients_by_age['Older Adults'][i][metric]\n",
    "\n",
    "    youngadults_avg_metric = int(youngadults_cumulative_metric / num_youngadults)\n",
    "    middleagedadults_avg_metric = int(middleagedadults_cumulative_metric / num_middleagedadults)\n",
    "    olderadults_avg_metric = int(olderadults_cumulative_metric / num_olderadults)\n",
    "    \n",
    "    return \"Young Adult average {metric}: \".format(metric = metric) + str(youngadults_avg_metric) + \"\\nMiddle Aged Adult average {metric}: \".format(metric = metric) + str(middleagedadults_avg_metric) + \"\\nOlder Adult average {metric}: \".format(metric = metric) + str(olderadults_avg_metric)\n",
    "\n",
    "print(all_age_avg(\"Charges\"))"
   ]
  },
  {
   "cell_type": "code",
   "execution_count": 23,
   "metadata": {},
   "outputs": [
    {
     "name": "stdout",
     "output_type": "stream",
     "text": [
      "Young Adult average BMI: 29\n",
      "Middle Aged Adult average BMI: 30\n",
      "Older Adult average BMI: 31\n"
     ]
    }
   ],
   "source": [
    "print(all_age_avg(\"BMI\"))"
   ]
  }
 ],
 "metadata": {
  "kernelspec": {
   "display_name": "Python 3 (ipykernel)",
   "language": "python",
   "name": "python3"
  },
  "language_info": {
   "codemirror_mode": {
    "name": "ipython",
    "version": 3
   },
   "file_extension": ".py",
   "mimetype": "text/x-python",
   "name": "python",
   "nbconvert_exporter": "python",
   "pygments_lexer": "ipython3",
   "version": "3.11.5"
  }
 },
 "nbformat": 4,
 "nbformat_minor": 4
}
