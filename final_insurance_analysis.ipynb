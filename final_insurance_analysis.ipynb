{
 "cells": [
  {
   "cell_type": "code",
   "execution_count": 1,
   "id": "7ed5a3db",
   "metadata": {},
   "outputs": [],
   "source": [
    "#adds information from csv to lists\n",
    "list_of_ages = []\n",
    "list_of_sexes = []\n",
    "list_of_bmis = []\n",
    "list_of_children = []\n",
    "list_of_smokers = []\n",
    "list_of_regions = []\n",
    "list_of_charges = []\n",
    "\n",
    "import csv\n",
    "\n",
    "with open('insurance.csv', newline='') as csvfile:\n",
    "    insurance_csv_dict = csv.DictReader(csvfile)\n",
    "    for row in insurance_csv_dict:\n",
    "        list_of_ages.append(row['age'])\n",
    "        list_of_sexes.append(row['sex'])\n",
    "        list_of_bmis.append(row['bmi'])\n",
    "        list_of_children.append(row['children'])\n",
    "        list_of_smokers.append(row['smoker'])\n",
    "        list_of_regions.append(row['region'])\n",
    "        list_of_charges.append(row['charges'])"
   ]
  },
  {
   "cell_type": "code",
   "execution_count": 2,
   "id": "ffb12270",
   "metadata": {},
   "outputs": [],
   "source": [
    "#creates medical IDs for patients and converts values\n",
    "medical_ID = []\n",
    "\n",
    "num_patients = len(list_of_ages)\n",
    "\n",
    "for i in range(num_patients):\n",
    "    medical_ID.append(i+1)\n",
    "    \n",
    "for i in range(num_patients):\n",
    "    list_of_charges[i] = int(float(list_of_charges[i]))\n",
    "    list_of_children[i] = int(float(list_of_children[i]))\n",
    "    list_of_bmis[i] = round(float(list_of_bmis[i]), 1)\n",
    "    list_of_ages[i] = int(list_of_ages[i])"
   ]
  },
  {
   "cell_type": "code",
   "execution_count": 3,
   "id": "af882fae",
   "metadata": {},
   "outputs": [],
   "source": [
    "#creates dictionary with medical IDs as key and insurance information as nested dictionary\n",
    "def med_ins_charge_dict(ID, age, sex, bmi, children, smoker, region, charges):\n",
    "    charges_and_details = {}\n",
    "    \n",
    "    for i in range(num_patients):\n",
    "        charges_and_details[medical_ID[i]] = {\"Age\": list_of_ages[i],\n",
    "                               \"Sex\": list_of_sexes[i],\n",
    "                               \"BMI\": list_of_bmis[i],\n",
    "                               \"Children\": list_of_children[i],\n",
    "                               \"Smoker\": list_of_smokers[i],\n",
    "                               \"Region\": list_of_regions[i],\n",
    "                               \"Charges\": list_of_charges[i]}\n",
    "    \n",
    "    return charges_and_details\n",
    "\n",
    "charges_and_details = med_ins_charge_dict(medical_ID, list_of_ages, list_of_sexes, list_of_bmis, list_of_children, list_of_smokers, list_of_regions, list_of_charges)"
   ]
  },
  {
   "cell_type": "code",
   "execution_count": 4,
   "id": "4290497b",
   "metadata": {},
   "outputs": [],
   "source": [
    "#creates dictionary that assigns range of ages to key and adds patient insurance information as nested dictionary list\n",
    "def age_dict(charges_and_details):\n",
    "    age_groups = {'Young Adults': [],\n",
    "                'Middle Aged Adults': [],\n",
    "                'Older Adults': []}\n",
    "    \n",
    "    for patient in charges_and_details:\n",
    "        if charges_and_details[patient]['Age'] > 44:\n",
    "            age_groups['Older Adults'].append(charges_and_details[patient])\n",
    "        elif charges_and_details[patient]['Age'] > 30:\n",
    "            age_groups['Middle Aged Adults'].append(charges_and_details[patient])\n",
    "        else: \n",
    "            age_groups['Young Adults'].append(charges_and_details[patient])\n",
    "            \n",
    "    return age_groups\n",
    "\n",
    "patients_by_age = age_dict(charges_and_details)"
   ]
  },
  {
   "cell_type": "code",
   "execution_count": 5,
   "id": "b8e039e4",
   "metadata": {},
   "outputs": [],
   "source": [
    "#creates dictionary that assigns range of BMIs to key and adds patient insurance information as nested dictionary list\n",
    "def bmi_dict(charges_and_details):\n",
    "    bmi_scale = {'Underweight': [],\n",
    "                'Healthy Weight': [],\n",
    "                'Overweight': [],\n",
    "                'Obese': []}\n",
    "    \n",
    "    for patient in charges_and_details:\n",
    "        if charges_and_details[patient]['BMI'] > 30.0:\n",
    "            bmi_scale['Obese'].append(charges_and_details[patient])\n",
    "        elif charges_and_details[patient]['BMI'] > 25.0:\n",
    "            bmi_scale['Overweight'].append(charges_and_details[patient])\n",
    "        elif charges_and_details[patient]['BMI'] > 18.5:\n",
    "            bmi_scale['Healthy Weight'].append(charges_and_details[patient])\n",
    "        else:\n",
    "            bmi_scale['Underweight'].append(charges_and_details[patient])\n",
    "            \n",
    "    return bmi_scale\n",
    "\n",
    "patients_by_bmi = bmi_dict(charges_and_details)"
   ]
  },
  {
   "cell_type": "code",
   "execution_count": 6,
   "id": "08786bb4",
   "metadata": {},
   "outputs": [],
   "source": [
    "#creates dictionary with sexes as keys and adds patient insurance information as nested dictionary list\n",
    "def sex_dict(charges_and_details):\n",
    "    \n",
    "    patients_by_sex = {}\n",
    "    for patient in charges_and_details:\n",
    "        current_sex = charges_and_details[patient]['Sex']\n",
    "        current_patient = charges_and_details[patient]\n",
    "        if current_sex not in patients_by_sex:\n",
    "            patients_by_sex[current_sex] = [current_patient]\n",
    "        else:\n",
    "            patients_by_sex[current_sex].append(current_patient)\n",
    "    \n",
    "    return patients_by_sex\n",
    "\n",
    "patients_by_sex = sex_dict(charges_and_details)"
   ]
  },
  {
   "cell_type": "code",
   "execution_count": 7,
   "id": "440f67db",
   "metadata": {},
   "outputs": [],
   "source": [
    "#creates dictionary that assigns number of children to key and adds patient insurance information as nested dictionary list\n",
    "def children_dict(charges_and_details):\n",
    "    children_groups = {'No Children': [],\n",
    "                'One Child': [],\n",
    "                'Two Children': [],\n",
    "                'Three or More Children': []}\n",
    "    \n",
    "    for patient in charges_and_details:\n",
    "        if charges_and_details[patient]['Children'] == 0:\n",
    "            children_groups['No Children'].append(charges_and_details[patient])\n",
    "        elif charges_and_details[patient]['Children'] == 1:\n",
    "            children_groups['One Child'].append(charges_and_details[patient])\n",
    "        elif charges_and_details[patient]['Children'] == 2:\n",
    "            children_groups['Two Children'].append(charges_and_details[patient])\n",
    "        elif charges_and_details[patient]['Children'] >= 3:\n",
    "            children_groups['Three or More Children'].append(charges_and_details[patient])\n",
    "            \n",
    "    return children_groups\n",
    "\n",
    "patients_by_children = children_dict(charges_and_details)"
   ]
  },
  {
   "cell_type": "code",
   "execution_count": 8,
   "id": "b377792b",
   "metadata": {},
   "outputs": [],
   "source": [
    "#creates dictionary that assigns smoker status to key and adds patient insurance information as nested dictionary list\n",
    "def smoker_dict(charges_and_details):\n",
    "    smoker_groups = {'Smoker': [],\n",
    "                'Non-smoker': []}\n",
    "    \n",
    "    for patient in charges_and_details:\n",
    "        if charges_and_details[patient]['Smoker'] == 'yes':\n",
    "            smoker_groups['Smoker'].append(charges_and_details[patient])\n",
    "        elif charges_and_details[patient]['Smoker'] == 'no':\n",
    "            smoker_groups['Non-smoker'].append(charges_and_details[patient])\n",
    "            \n",
    "    return smoker_groups\n",
    "\n",
    "patients_by_smokers = smoker_dict(charges_and_details)"
   ]
  },
  {
   "cell_type": "code",
   "execution_count": 9,
   "id": "c53fc1ca",
   "metadata": {},
   "outputs": [],
   "source": [
    "#creates dictionary with regions as keys and adds patient insurance information as nested dictionary list\n",
    "def regional_dict(charges_and_details):\n",
    "    \n",
    "    patients_by_region = {}\n",
    "    for patient in charges_and_details:\n",
    "        current_region = charges_and_details[patient]['Region']\n",
    "        current_patient = charges_and_details[patient]\n",
    "        if current_region not in patients_by_region:\n",
    "            patients_by_region[current_region] = [current_patient]\n",
    "        else:\n",
    "            patients_by_region[current_region].append(current_patient)\n",
    "    \n",
    "    return patients_by_region\n",
    "\n",
    "patients_by_region = regional_dict(charges_and_details)"
   ]
  },
  {
   "cell_type": "code",
   "execution_count": 10,
   "id": "a2fd5dfa",
   "metadata": {},
   "outputs": [],
   "source": [
    "#creates dictionary that assigns range of charges to key and adds patient insurance information as nested dictionary list\n",
    "def charges_dict(charges_and_details):\n",
    "    charges_groups = {'$0 - $5k': [],\n",
    "                '$5k - $10k': [],\n",
    "                '$10k - $15k': [],\n",
    "                '$15k +': []}\n",
    "    \n",
    "    for patient in charges_and_details:\n",
    "        if charges_and_details[patient]['Charges'] > 15000:\n",
    "            charges_groups['$15k +'].append(charges_and_details[patient])\n",
    "        elif charges_and_details[patient]['Charges'] > 10000:\n",
    "            charges_groups['$10k - $15k'].append(charges_and_details[patient])\n",
    "        elif charges_and_details[patient]['Charges'] > 5000:\n",
    "            charges_groups['$5k - $10k'].append(charges_and_details[patient])\n",
    "        else:\n",
    "            charges_groups['$0 - $5k'].append(charges_and_details[patient])\n",
    "            \n",
    "    return charges_groups\n",
    "\n",
    "patients_by_charges = charges_dict(charges_and_details)"
   ]
  },
  {
   "cell_type": "code",
   "execution_count": 11,
   "id": "a12ff3e2",
   "metadata": {},
   "outputs": [],
   "source": [
    "#Function that takes two inputs. \n",
    "#The first input groups the patient information by assigning a dictionary. \n",
    "#The second input returns the average or percentage of metric per group.\n",
    "def analyze_groups(group, metric):\n",
    "    dictionary = \"\"\n",
    "    \n",
    "    if group == \"Age\":\n",
    "        dictionary = patients_by_age\n",
    "    if group == \"Sex\":\n",
    "        dictionary = patients_by_sex\n",
    "    if group == \"BMI\":\n",
    "        dictionary = patients_by_bmi\n",
    "    if group == \"Children\":\n",
    "        dictionary = patients_by_children\n",
    "    if group == \"Smoker\":\n",
    "        dictionary = patients_by_smokers\n",
    "    if group == \"Region\":\n",
    "        dictionary = patients_by_region\n",
    "    if group == \"Charges\":\n",
    "        dictionary = patients_by_charges\n",
    "    \n",
    "    for key in dictionary:\n",
    "        patients_in_group = len(dictionary[key])\n",
    "        cumulative_metric = 0\n",
    "\n",
    "        if metric == \"Age\" or metric == \"BMI\" or metric == \"Children\" or metric == \"Charges\":\n",
    "            for i in range(patients_in_group):\n",
    "                cumulative_metric += dictionary[key][i][metric]\n",
    "\n",
    "            group_avg_metric = round((cumulative_metric / patients_in_group), 1)\n",
    "\n",
    "            print(\"{key} average {metric}: \".format(key = key, metric = metric) + str(group_avg_metric))\n",
    "            \n",
    "        else:\n",
    "            num_string = {}\n",
    "            analysis = \"{key} percent {metric}: \".format(key = key, metric = metric)\n",
    "            \n",
    "            for i in range(patients_in_group):\n",
    "                string = dictionary[key][i][metric]\n",
    "                \n",
    "                if string not in num_string:\n",
    "                    num_string[string] = 1\n",
    "                else:\n",
    "                    num_string[string] += 1\n",
    "                        \n",
    "            for string in num_string:\n",
    "                cumulative_metric = 0\n",
    "                cumulative_metric += num_string[string]\n",
    "                \n",
    "                metric_pct = round(((cumulative_metric / patients_in_group) * 100), 1)\n",
    "                analysis += str(metric_pct) + \"% {string}, \".format(string = string)\n",
    "            \n",
    "            print(analysis)"
   ]
  },
  {
   "cell_type": "code",
   "execution_count": 12,
   "id": "e2e00657",
   "metadata": {},
   "outputs": [
    {
     "name": "stdout",
     "output_type": "stream",
     "text": [
      "Young Adults average Charges: 9397.0\n",
      "Middle Aged Adults average Charges: 12473.6\n",
      "Older Adults average Charges: 17070.0\n"
     ]
    }
   ],
   "source": [
    "analyze_groups(\"Age\", \"Charges\")"
   ]
  },
  {
   "cell_type": "code",
   "execution_count": 13,
   "id": "f204bd9f",
   "metadata": {},
   "outputs": [
    {
     "name": "stdout",
     "output_type": "stream",
     "text": [
      "female average Charges: 12569.1\n",
      "male average Charges: 13956.3\n"
     ]
    }
   ],
   "source": [
    "analyze_groups(\"Sex\", \"Charges\")"
   ]
  },
  {
   "cell_type": "code",
   "execution_count": 14,
   "id": "7310b2c8",
   "metadata": {},
   "outputs": [
    {
     "name": "stdout",
     "output_type": "stream",
     "text": [
      "Underweight average Charges: 8657.1\n",
      "Healthy Weight average Charges: 10434.9\n",
      "Overweight average Charges: 11034.4\n",
      "Obese average Charges: 15585.3\n"
     ]
    }
   ],
   "source": [
    "analyze_groups(\"BMI\", \"Charges\")"
   ]
  },
  {
   "cell_type": "code",
   "execution_count": 15,
   "id": "8066644b",
   "metadata": {},
   "outputs": [
    {
     "name": "stdout",
     "output_type": "stream",
     "text": [
      "No Children average Charges: 12365.5\n",
      "One Child average Charges: 12730.7\n",
      "Two Children average Charges: 15073.1\n",
      "Three or More Children average Charges: 14575.5\n"
     ]
    }
   ],
   "source": [
    "analyze_groups(\"Children\", \"Charges\")"
   ]
  },
  {
   "cell_type": "code",
   "execution_count": 16,
   "id": "82503770",
   "metadata": {},
   "outputs": [
    {
     "name": "stdout",
     "output_type": "stream",
     "text": [
      "Smoker average Charges: 32049.7\n",
      "Non-smoker average Charges: 8433.8\n"
     ]
    }
   ],
   "source": [
    "analyze_groups(\"Smoker\", \"Charges\")"
   ]
  },
  {
   "cell_type": "code",
   "execution_count": 17,
   "id": "8d0237ba",
   "metadata": {},
   "outputs": [
    {
     "name": "stdout",
     "output_type": "stream",
     "text": [
      "southwest average Charges: 12346.5\n",
      "southeast average Charges: 14734.9\n",
      "northwest average Charges: 12417.1\n",
      "northeast average Charges: 13405.9\n"
     ]
    }
   ],
   "source": [
    "analyze_groups(\"Region\", \"Charges\")"
   ]
  },
  {
   "cell_type": "code",
   "execution_count": 18,
   "id": "7ff53d6b",
   "metadata": {},
   "outputs": [
    {
     "name": "stdout",
     "output_type": "stream",
     "text": [
      "$0 - $5k average BMI: 29.9\n",
      "$5k - $10k average BMI: 30.6\n",
      "$10k - $15k average BMI: 31.1\n",
      "$15k + average BMI: 31.1\n"
     ]
    }
   ],
   "source": [
    "analyze_groups(\"Charges\", \"BMI\")"
   ]
  },
  {
   "cell_type": "code",
   "execution_count": 19,
   "id": "d5fddbdf",
   "metadata": {},
   "outputs": [
    {
     "name": "stdout",
     "output_type": "stream",
     "text": [
      "Underweight percent Smoker: 76.2% no, 23.8% yes, \n",
      "Healthy Weight percent Smoker: 77.9% no, 22.1% yes, \n",
      "Overweight percent Smoker: 19.3% yes, 80.7% no, \n",
      "Obese percent Smoker: 79.5% no, 20.5% yes, \n"
     ]
    }
   ],
   "source": [
    "analyze_groups(\"BMI\", \"Smoker\")"
   ]
  },
  {
   "cell_type": "code",
   "execution_count": 20,
   "id": "bc03a9cf",
   "metadata": {},
   "outputs": [
    {
     "name": "stdout",
     "output_type": "stream",
     "text": [
      "Underweight percent Region: 33.3% northwest, 47.6% northeast, 19.0% southwest, \n",
      "Healthy Weight percent Region: 27.9% northwest, 21.7% southwest, 32.3% northeast, 18.1% southeast, \n",
      "Overweight percent Region: 25.7% southwest, 28.2% northwest, 21.1% southeast, 24.9% northeast, \n",
      "Obese percent Region: 34.4% southeast, 24.5% southwest, 20.5% northeast, 20.6% northwest, \n"
     ]
    }
   ],
   "source": [
    "analyze_groups(\"BMI\", \"Region\")"
   ]
  },
  {
   "cell_type": "code",
   "execution_count": 21,
   "id": "e55ea56e",
   "metadata": {},
   "outputs": [
    {
     "name": "stdout",
     "output_type": "stream",
     "text": [
      "$0 - $5k percent Sex: 51.8% male, 48.2% female, \n",
      "$5k - $10k percent Sex: 51.6% female, 48.4% male, \n",
      "$10k - $15k percent Sex: 55.2% female, 44.8% male, \n",
      "$15k + percent Sex: 44.4% female, 55.6% male, \n"
     ]
    }
   ],
   "source": [
    "analyze_groups(\"Charges\", \"Sex\")"
   ]
  },
  {
   "cell_type": "code",
   "execution_count": 22,
   "id": "fcf97069",
   "metadata": {},
   "outputs": [
    {
     "name": "stdout",
     "output_type": "stream",
     "text": [
      "$0 - $5k percent Smoker: 100.0% no, \n",
      "$5k - $10k percent Smoker: 100.0% no, \n",
      "$10k - $15k percent Smoker: 97.4% no, 2.6% yes, \n",
      "$15k + percent Smoker: 74.6% yes, 25.4% no, \n"
     ]
    }
   ],
   "source": [
    "analyze_groups(\"Charges\", \"Smoker\")"
   ]
  },
  {
   "cell_type": "code",
   "execution_count": 23,
   "id": "4d4e7793",
   "metadata": {},
   "outputs": [
    {
     "name": "stdout",
     "output_type": "stream",
     "text": [
      "No Children percent Region: 24.0% southwest, 23.0% northwest, 27.4% southeast, 25.6% northeast, \n",
      "One Child percent Region: 29.3% southeast, 24.1% southwest, 23.8% northeast, 22.8% northwest, \n",
      "Two Children percent Region: 21.2% northeast, 27.5% northwest, 23.8% southwest, 27.5% southeast, \n",
      "Three or More Children percent Region: 23.0% southeast, 26.5% northwest, 26.0% southwest, 24.5% northeast, \n"
     ]
    }
   ],
   "source": [
    "analyze_groups(\"Children\", \"Region\")"
   ]
  },
  {
   "cell_type": "code",
   "execution_count": null,
   "id": "00264791",
   "metadata": {},
   "outputs": [],
   "source": []
  }
 ],
 "metadata": {
  "kernelspec": {
   "display_name": "Python 3 (ipykernel)",
   "language": "python",
   "name": "python3"
  },
  "language_info": {
   "codemirror_mode": {
    "name": "ipython",
    "version": 3
   },
   "file_extension": ".py",
   "mimetype": "text/x-python",
   "name": "python",
   "nbconvert_exporter": "python",
   "pygments_lexer": "ipython3",
   "version": "3.11.5"
  }
 },
 "nbformat": 4,
 "nbformat_minor": 5
}
